{
 "cells": [
  {
   "cell_type": "code",
   "execution_count": 1,
   "metadata": {},
   "outputs": [],
   "source": [
    "import pandas as pd\n",
    "import googletrans\n",
    "import subprocess\n",
    "# from googletrans import Translator\n",
    "from tqdm._tqdm_notebook import tqdm_notebook\n",
    "tqdm_notebook.pandas('Progress>')"
   ]
  },
  {
   "cell_type": "code",
   "execution_count": 2,
   "metadata": {},
   "outputs": [
    {
     "output_type": "stream",
     "name": "stdout",
     "text": "SearchKeywords SearchCity  \\\n10909  racism OR COVID-19 OR COVID2019 OR Lombardy OR...    Palermo   \n25125  racism OR COVID-19 OR COVID2019 OR Lombardy OR...    Palermo   \n2278   racism OR COVID-19 OR COVID2019 OR Lombardy OR...    Palermo   \n20666  racism OR COVID-19 OR COVID2019 OR Lombardy OR...    Palermo   \n14204  racism OR COVID-19 OR COVID2019 OR Lombardy OR...    Palermo   \n\n       Time_Zone      tweet_ID          created_at    created_at_local  \\\n10909        1.0  1.238939e+18 2020-03-14 21:22:42 2020-03-14 22:22:42   \n25125        1.0  1.242404e+18 2020-03-24 10:53:11 2020-03-24 11:53:11   \n2278         1.0  1.235831e+18 2020-03-06 07:34:24 2020-03-06 08:34:24   \n20666        1.0  1.241350e+18 2020-03-21 13:04:10 2020-03-21 14:04:10   \n14204        1.0  1.239429e+18 2020-03-16 05:50:12 2020-03-16 06:50:12   \n\n                                               full_text  favorite_count  \\\n10909  Coronavirus, tampone negativo per Leoluca Orla...             3.0   \n25125  RT @e_terranova: In #Spagna hanno scoperto che...             0.0   \n2278   Coronavirus: musei, rinviate le attivit√† che ...             0.0   \n20666  Coronavirus, il bollettino della Regione Sicil...             0.0   \n14204  RT @fra79Nopadania: Ora mi raccomando i 25mld ...             0.0   \n\n       retweet_count       user_ID  ...  \\\n10909            0.0  4.832597e+08  ...   \n25125          480.0  1.035806e+18  ...   \n2278             0.0  1.977624e+08  ...   \n20666            0.0  1.092188e+18  ...   \n14204            2.0  9.821706e+17  ...   \n\n                                                    URLs  Geo  Coordinates  \\\n10909  [{'url': 'https://t.co/frC3IJ0LRL', 'expanded_...  NaN          NaN   \n25125                                                 []  NaN          NaN   \n2278   [{'url': 'https://t.co/81YbIgDsBk', 'expanded_...  NaN          NaN   \n20666  [{'url': 'https://t.co/kyhlVWKd8M', 'expanded_...  NaN          NaN   \n14204                                                 []  NaN          NaN   \n\n       Checked_In_Place     User_Location                RT_id RT_Geo  \\\n10909              None           Palermo                 None   None   \n25125              None       Roma, Lazio  1242368129273139968    NaN   \n2278               None           Palermo                 None   None   \n20666              None  Palermo, Sicilia                 None   None   \n14204              None               NaN  1239428390907760128    NaN   \n\n      RT_Coordinates RT_Place  RT_User_Location  \n10909           None     None              None  \n25125            NaN      NaN           Palermo  \n2278            None     None              None  \n20666           None     None              None  \n14204            NaN      NaN  Palermo, Sicilia  \n\n[5 rows x 27 columns]\n"
    }
   ],
   "source": [
    "# Read in Source Data\n",
    "df = pd.read_excel('data/Palermo.xlsx')\n",
    "\n",
    "# Generate sample for example\n",
    "sample_df = df.sample(5)\n",
    "print(sample_df)"
   ]
  },
  {
   "cell_type": "code",
   "execution_count": 3,
   "metadata": {},
   "outputs": [
    {
     "output_type": "stream",
     "name": "stdout",
     "text": "how are you\n"
    }
   ],
   "source": [
    "# Translation Demo\n",
    "translator = googletrans.Translator()\n",
    "translation = translator.translate('come stai',src='it',dest='en')\n",
    "\n",
    "print(translation.text)"
   ]
  },
  {
   "cell_type": "code",
   "execution_count": 4,
   "metadata": {},
   "outputs": [
    {
     "output_type": "display_data",
     "data": {
      "text/plain": "HBox(children=(FloatProgress(value=0.0, max=5.0), HTML(value='')))",
      "application/vnd.jupyter.widget-view+json": {
       "version_major": 2,
       "version_minor": 0,
       "model_id": "801e45bcc4bd4a6f84149789ea7b9351"
      }
     },
     "metadata": {}
    },
    {
     "output_type": "stream",
     "name": "stdout",
     "text": "\n"
    }
   ],
   "source": [
    "def translate_text(text, src_langauge=\"it\", dest_language=\"en\"):\n",
    "    # Used to translate using the googletrans library\n",
    "    import json\n",
    "    translator = googletrans.Translator()\n",
    "    try:\n",
    "        # Translate text\n",
    "        translation = translator.translate(text=text, src=src_langauge, dest=dest_language)\n",
    "    except json.decoder.JSONDecodeError:\n",
    "        # If API kicks you off, restart VPN and retry\n",
    "        process = subprocess.Popen([\"nordvpn\", \"d\"], stdout=subprocess.PIPE)\n",
    "        process.wait()\n",
    "        process = subprocess.Popen([\"nordvpn\", \"c\"], stdout=subprocess.PIPE)\n",
    "        process.wait()\n",
    "        return Process_Data.translate_text(text=text, src=src_langauge, dest_language=dest_language)\n",
    "    # Only return text part, not entire object\n",
    "    return translation.text\n",
    "\n",
    "# Translate entire column (with a neat progress bar)\n",
    "sample_df['translated_full_text'] = sample_df['full_text'].progress_apply(translate_text)\n",
    "# df['translated_full_text'] = df['full_text'].progress_apply(translate_text)\n"
   ]
  },
  {
   "cell_type": "code",
   "execution_count": 6,
   "metadata": {},
   "outputs": [
    {
     "output_type": "display_data",
     "data": {
      "text/plain": "10909    Coronavirus, tampone negativo per Leoluca Orla...\n25125    RT @e_terranova: In #Spagna hanno scoperto che...\n2278     Coronavirus: musei, rinviate le attivit√† che ...\n20666    Coronavirus, il bollettino della Regione Sicil...\n14204    RT @fra79Nopadania: Ora mi raccomando i 25mld ...\nName: full_text, dtype: object"
     },
     "metadata": {}
    }
   ],
   "source": [
    "display(sample_df['full_text'])"
   ]
  },
  {
   "cell_type": "code",
   "execution_count": 7,
   "metadata": {},
   "outputs": [
    {
     "output_type": "display_data",
     "data": {
      "text/plain": "10909    Coronavirus, negative swab to Leoluca Orlando ...\n25125    RT @e_terranova: In #Spagna found that in a re...\n2278     Coronavirus: museums, postponed the attivit√ †...\n20666    Coronavirus, the bulletin of the Sicily Region...\n14204    RT @ fra79Nopadania: Now I recommend the maneu...\nName: translated_full_text, dtype: object"
     },
     "metadata": {}
    }
   ],
   "source": [
    "display(sample_df['translated_full_text'])"
   ]
  },
  {
   "cell_type": "code",
   "execution_count": null,
   "metadata": {},
   "outputs": [],
   "source": []
  }
 ],
 "metadata": {
  "language_info": {
   "codemirror_mode": {
    "name": "ipython",
    "version": 3
   },
   "file_extension": ".py",
   "mimetype": "text/x-python",
   "name": "python",
   "nbconvert_exporter": "python",
   "pygments_lexer": "ipython3",
   "version": "3.8.1-final"
  },
  "orig_nbformat": 2,
  "kernelspec": {
   "name": "python38164bitenvvenvc025e48d0ba841a68c41703c78d5e202",
   "display_name": "Python 3.8.1 64-bit ('.env': venv)"
  }
 },
 "nbformat": 4,
 "nbformat_minor": 2
}